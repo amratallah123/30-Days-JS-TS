{
 "cells": [
  {
   "cell_type": "code",
   "execution_count": 7,
   "metadata": {},
   "outputs": [
    {
     "ename": "IndexError",
     "evalue": "list index out of range",
     "output_type": "error",
     "traceback": [
      "\u001b[1;31m---------------------------------------------------------------------------\u001b[0m",
      "\u001b[1;31mIndexError\u001b[0m                                Traceback (most recent call last)",
      "\u001b[1;32mf:\\algortihms\\g.ipynb Cell 1\u001b[0m line \u001b[0;36m3\n\u001b[0;32m     <a href='vscode-notebook-cell:/f%3A/algortihms/g.ipynb#W0sZmlsZQ%3D%3D?line=22'>23</a>\u001b[0m \u001b[39m# Example usage\u001b[39;00m\n\u001b[0;32m     <a href='vscode-notebook-cell:/f%3A/algortihms/g.ipynb#W0sZmlsZQ%3D%3D?line=23'>24</a>\u001b[0m graph \u001b[39m=\u001b[39m [\n\u001b[0;32m     <a href='vscode-notebook-cell:/f%3A/algortihms/g.ipynb#W0sZmlsZQ%3D%3D?line=24'>25</a>\u001b[0m     {\u001b[39m0\u001b[39m: {\u001b[39m1\u001b[39m: \u001b[39m2\u001b[39m, \u001b[39m2\u001b[39m: \u001b[39m3\u001b[39m, \u001b[39m3\u001b[39m: \u001b[39m4\u001b[39m, \u001b[39m4\u001b[39m: \u001b[39m1\u001b[39m}},  \u001b[39m# Stage 2\u001b[39;00m\n\u001b[0;32m     <a href='vscode-notebook-cell:/f%3A/algortihms/g.ipynb#W0sZmlsZQ%3D%3D?line=25'>26</a>\u001b[0m     {\u001b[39m1\u001b[39m: {\u001b[39m5\u001b[39m: \u001b[39m3\u001b[39m, \u001b[39m6\u001b[39m: \u001b[39m2\u001b[39m, \u001b[39m7\u001b[39m: \u001b[39m4\u001b[39m, \u001b[39m8\u001b[39m: \u001b[39m1\u001b[39m}},  \u001b[39m# Stage 3\u001b[39;00m\n\u001b[0;32m     <a href='vscode-notebook-cell:/f%3A/algortihms/g.ipynb#W0sZmlsZQ%3D%3D?line=26'>27</a>\u001b[0m     {\u001b[39m0\u001b[39m: {\u001b[39m9\u001b[39m: \u001b[39m0\u001b[39m}},  \u001b[39m# Stage 4\u001b[39;00m\n\u001b[0;32m     <a href='vscode-notebook-cell:/f%3A/algortihms/g.ipynb#W0sZmlsZQ%3D%3D?line=27'>28</a>\u001b[0m ]\n\u001b[1;32m---> <a href='vscode-notebook-cell:/f%3A/algortihms/g.ipynb#W0sZmlsZQ%3D%3D?line=29'>30</a>\u001b[0m solver \u001b[39m=\u001b[39m MultiStageGraphSolver(graph)\n\u001b[0;32m     <a href='vscode-notebook-cell:/f%3A/algortihms/g.ipynb#W0sZmlsZQ%3D%3D?line=31'>32</a>\u001b[0m start_node \u001b[39m=\u001b[39m \u001b[39m0\u001b[39m\n\u001b[0;32m     <a href='vscode-notebook-cell:/f%3A/algortihms/g.ipynb#W0sZmlsZQ%3D%3D?line=32'>33</a>\u001b[0m end_node \u001b[39m=\u001b[39m \u001b[39m3\u001b[39m\n",
      "\u001b[1;32mf:\\algortihms\\g.ipynb Cell 1\u001b[0m line \u001b[0;36m6\n\u001b[0;32m      <a href='vscode-notebook-cell:/f%3A/algortihms/g.ipynb#W0sZmlsZQ%3D%3D?line=3'>4</a>\u001b[0m \u001b[39mself\u001b[39m\u001b[39m.\u001b[39mdp \u001b[39m=\u001b[39m [\u001b[39m0\u001b[39m] \u001b[39m*\u001b[39m \u001b[39mself\u001b[39m\u001b[39m.\u001b[39mstages  \u001b[39m# Initialize a table to store the minimum costs\u001b[39;00m\n\u001b[0;32m      <a href='vscode-notebook-cell:/f%3A/algortihms/g.ipynb#W0sZmlsZQ%3D%3D?line=4'>5</a>\u001b[0m \u001b[39mself\u001b[39m\u001b[39m.\u001b[39mgraph \u001b[39m=\u001b[39m graph\n\u001b[1;32m----> <a href='vscode-notebook-cell:/f%3A/algortihms/g.ipynb#W0sZmlsZQ%3D%3D?line=5'>6</a>\u001b[0m \u001b[39mself\u001b[39;49m\u001b[39m.\u001b[39;49m_solve()\n",
      "\u001b[1;32mf:\\algortihms\\g.ipynb Cell 1\u001b[0m line \u001b[0;36m1\n\u001b[0;32m     <a href='vscode-notebook-cell:/f%3A/algortihms/g.ipynb#W0sZmlsZQ%3D%3D?line=10'>11</a>\u001b[0m min_cost \u001b[39m=\u001b[39m \u001b[39mfloat\u001b[39m(\u001b[39m'\u001b[39m\u001b[39minf\u001b[39m\u001b[39m'\u001b[39m)\n\u001b[0;32m     <a href='vscode-notebook-cell:/f%3A/algortihms/g.ipynb#W0sZmlsZQ%3D%3D?line=11'>12</a>\u001b[0m \u001b[39mfor\u001b[39;00m neighbor, cost \u001b[39min\u001b[39;00m \u001b[39mself\u001b[39m\u001b[39m.\u001b[39mgraph[stage][vertex]\u001b[39m.\u001b[39mitems():\n\u001b[1;32m---> <a href='vscode-notebook-cell:/f%3A/algortihms/g.ipynb#W0sZmlsZQ%3D%3D?line=12'>13</a>\u001b[0m     cost \u001b[39m=\u001b[39m cost \u001b[39m+\u001b[39m \u001b[39mself\u001b[39;49m\u001b[39m.\u001b[39;49mdp[neighbor]\n\u001b[0;32m     <a href='vscode-notebook-cell:/f%3A/algortihms/g.ipynb#W0sZmlsZQ%3D%3D?line=13'>14</a>\u001b[0m     min_cost \u001b[39m=\u001b[39m \u001b[39mmin\u001b[39m(min_cost, cost)\n\u001b[0;32m     <a href='vscode-notebook-cell:/f%3A/algortihms/g.ipynb#W0sZmlsZQ%3D%3D?line=14'>15</a>\u001b[0m \u001b[39mself\u001b[39m\u001b[39m.\u001b[39mdp[vertex] \u001b[39m=\u001b[39m min_cost\n",
      "\u001b[1;31mIndexError\u001b[0m: list index out of range"
     ]
    }
   ],
   "source": [
    "class MultiStageGraphSolver:\n",
    "    def __init__(self, graph):\n",
    "        self.stages = len(graph)\n",
    "        self.dp = [0] * self.stages  # Initialize a table to store the minimum costs\n",
    "        self.graph = graph\n",
    "        self._solve()\n",
    "\n",
    "    def _solve(self):\n",
    "        for stage in range(self.stages - 2, -1, -1):  # Start from the second-to-last stage and work backward\n",
    "            for vertex in self.graph[stage]:\n",
    "                min_cost = float('inf')\n",
    "                for neighbor, cost in self.graph[stage][vertex].items():\n",
    "                    cost = cost + self.dp[neighbor]\n",
    "                    min_cost = min(min_cost, cost)\n",
    "                self.dp[vertex] = min_cost\n",
    "\n",
    "    def find_cost_between_nodes(self, start_node, end_node):\n",
    "        return self.dp[start_node] + self.graph[1][start_node][end_node]\n",
    "\n",
    "    def find_min_cost_to_node(self, node):\n",
    "        return self.dp[node]\n",
    "\n",
    "# Example usage\n",
    "graph = [\n",
    "    {0: {1: 2, 2: 3, 3: 4, 4: 1}},  # Stage 2\n",
    "    {1: {5: 3, 6: 2, 7: 4, 8: 1}},  # Stage 3\n",
    "    {0: {9: 0}},  # Stage 4\n",
    "]\n",
    "\n",
    "solver = MultiStageGraphSolver(graph)\n",
    "\n",
    "start_node = 0\n",
    "end_node = 3\n",
    "\n",
    "cost_between_nodes = solver.find_cost_between_nodes(start_node, end_node)\n",
    "min_cost_to_node = solver.find_min_cost_to_node(start_node)\n",
    "\n",
    "print(f\"Cost between node {start_node} and node {end_node}: {cost_between_nodes}\")\n",
    "print(f\"Minimum cost to reach node {start_node}: {min_cost_to_node}\")\n"
   ]
  }
 ],
 "metadata": {
  "kernelspec": {
   "display_name": "Python 3",
   "language": "python",
   "name": "python3"
  },
  "language_info": {
   "codemirror_mode": {
    "name": "ipython",
    "version": 3
   },
   "file_extension": ".py",
   "mimetype": "text/x-python",
   "name": "python",
   "nbconvert_exporter": "python",
   "pygments_lexer": "ipython3",
   "version": "3.11.4"
  }
 },
 "nbformat": 4,
 "nbformat_minor": 2
}
